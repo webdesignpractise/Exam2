{
 "cells": [
  {
   "cell_type": "markdown",
   "id": "eb62c227",
   "metadata": {},
   "source": [
    "#Answer1"
   ]
  },
  {
   "cell_type": "code",
   "execution_count": 6,
   "id": "bf781e15",
   "metadata": {},
   "outputs": [
    {
     "name": "stdout",
     "output_type": "stream",
     "text": [
      "2002,2009,2016,2023,2037,2044,2051,2058,2072,2079,2086,2093,2107,2114,2121,2128,2142,2149,2156,2163,2177,2184,2191,2198,2212,2219,2226,2233,2247,2254,2261,2268,2282,2289,2296,2303,2317,2324,2331,2338,2352,2359,2366,2373,2387,2394,2401,2408,2422,2429,2436,2443,2457,2464,2471,2478,2492,2499,2506,2513,2527,2534,2541,2548,2562,2569,2576,2583,2597,2604,2611,2618,2632,2639,2646,2653,2667,2674,2681,2688,2702,2709,2716,2723,2737,2744,2751,2758,2772,2779,2786,2793,2807,2814,2821,2828,2842,2849,2856,2863,2877,2884,2891,2898,2912,2919,2926,2933,2947,2954,2961,2968,2982,2989,2996,3003,3017,3024,3031,3038,3052,3059,3066,3073,3087,3094,3101,3108,3122,3129,3136,3143,3157,3164,3171,3178,3192,3199,"
     ]
    }
   ],
   "source": [
    "start,end=2000,3200\n",
    "for i in range(start,end+1):\n",
    "    if i%5!=0 and i%7==0 :\n",
    "            print(i,end=',')"
   ]
  },
  {
   "cell_type": "markdown",
   "id": "5184274f",
   "metadata": {},
   "source": [
    "#Answer2"
   ]
  },
  {
   "cell_type": "code",
   "execution_count": 8,
   "id": "cd67c281",
   "metadata": {},
   "outputs": [
    {
     "name": "stdout",
     "output_type": "stream",
     "text": [
      "Enter a number8\n",
      "40320,"
     ]
    }
   ],
   "source": [
    "num=int(input('Enter a number'))\n",
    "fact=1\n",
    "for i in range(2,num+1):\n",
    "    fact=fact*i\n",
    "print(fact,end=',')"
   ]
  },
  {
   "cell_type": "markdown",
   "id": "9d7556b7",
   "metadata": {},
   "source": [
    "#Answer3:"
   ]
  },
  {
   "cell_type": "code",
   "execution_count": 9,
   "id": "2c6002af",
   "metadata": {},
   "outputs": [
    {
     "name": "stdout",
     "output_type": "stream",
     "text": [
      "Enter a number8\n",
      "{1: 1, 2: 4, 3: 9, 4: 16, 5: 25, 6: 36, 7: 49, 8: 64}\n"
     ]
    }
   ],
   "source": [
    "num=int(input('Enter a number'))\n",
    "dict={}\n",
    "for i in range(1,num+1):\n",
    "    dict[i]=i*i\n",
    "print(dict)"
   ]
  },
  {
   "cell_type": "markdown",
   "id": "eee382ce",
   "metadata": {},
   "source": [
    "#Answer4"
   ]
  },
  {
   "cell_type": "code",
   "execution_count": 11,
   "id": "0db604b7",
   "metadata": {},
   "outputs": [
    {
     "name": "stdout",
     "output_type": "stream",
     "text": [
      "34,67,55,33,12,98\n",
      "['34', '67', '55', '33', '12', '98'] ('34', '67', '55', '33', '12', '98')\n"
     ]
    }
   ],
   "source": [
    "ip=input()\n",
    "l=ip.split(',')\n",
    "t=tuple(l)\n",
    "print(l,end=' ')\n",
    "print(t)"
   ]
  },
  {
   "cell_type": "markdown",
   "id": "5610a2dd",
   "metadata": {},
   "source": [
    "#Answer5"
   ]
  },
  {
   "cell_type": "code",
   "execution_count": 18,
   "id": "76c90c6c",
   "metadata": {},
   "outputs": [
    {
     "name": "stdout",
     "output_type": "stream",
     "text": [
      "Enter a stringHi, myself manish \n",
      "HI, MYSELF MANISH \n"
     ]
    }
   ],
   "source": [
    "class stringMy():\n",
    "    def __init__(self):\n",
    "        self.str=\"\"\n",
    "    def getString(self):\n",
    "        self.str1=input('Enter a string')\n",
    "    def printString(self):\n",
    "        print(self.str1.upper())\n",
    "    #def test(self):\n",
    "    #    ip=getString()\n",
    "    #    printSting(ip)\n",
    "def test():      \n",
    "    s=stringMy()\n",
    "    s.getString()\n",
    "    s.printString()\n",
    "    \n",
    "test()"
   ]
  },
  {
   "cell_type": "markdown",
   "id": "3e4713ca",
   "metadata": {},
   "source": [
    "#Answer6"
   ]
  },
  {
   "cell_type": "code",
   "execution_count": 4,
   "id": "f1a36427",
   "metadata": {},
   "outputs": [
    {
     "name": "stdout",
     "output_type": "stream",
     "text": [
      "100,150,180\n",
      "[18, 22, 24]\n"
     ]
    }
   ],
   "source": [
    "import math\n",
    "l=input()\n",
    "D=l.split(',')\n",
    "res=[]\n",
    "for val in D:\n",
    "    v=round(math.sqrt((2*50*int(val))/30))\n",
    "    res.append(v)\n",
    "print(res)"
   ]
  },
  {
   "cell_type": "markdown",
   "id": "d424be0d",
   "metadata": {},
   "source": [
    "#Answer7"
   ]
  },
  {
   "cell_type": "code",
   "execution_count": 8,
   "id": "07ab8ff3",
   "metadata": {},
   "outputs": [
    {
     "name": "stdout",
     "output_type": "stream",
     "text": [
      "3,5\n",
      "[[0, 0, 0, 0, 0], [0, 1, 2, 3, 4], [0, 2, 4, 6, 8]]\n"
     ]
    }
   ],
   "source": [
    "x,y=input().split(',')\n",
    "res=[]\n",
    "for i in range(int(x)):\n",
    "    temp=[]\n",
    "    for j in range(int(y)):\n",
    "        temp.append(i*j)\n",
    "    res.append(temp)\n",
    "print(res)\n",
    "        \n",
    "        "
   ]
  },
  {
   "cell_type": "markdown",
   "id": "8d9c831d",
   "metadata": {},
   "source": [
    "#Answer8"
   ]
  },
  {
   "cell_type": "code",
   "execution_count": 25,
   "id": "4b816d64",
   "metadata": {},
   "outputs": [
    {
     "name": "stdout",
     "output_type": "stream",
     "text": [
      "without,hello,bag,world\n",
      "bag,hello,without,world\n"
     ]
    }
   ],
   "source": [
    "l=input().split(',')\n",
    "l.sort()\n",
    "res=[]\n",
    "for i in l:\n",
    "    res.append(i)\n",
    "print(','.join(res))"
   ]
  },
  {
   "cell_type": "markdown",
   "id": "2fec3019",
   "metadata": {},
   "source": [
    "#Answer9"
   ]
  },
  {
   "cell_type": "code",
   "execution_count": 14,
   "id": "77fe0451",
   "metadata": {},
   "outputs": [
    {
     "name": "stdout",
     "output_type": "stream",
     "text": [
      "Hello world\n",
      "Practise makes perfect\n",
      "\n",
      "HELLO WORLD\n",
      "PRACTISE MAKES PERFECT\n"
     ]
    }
   ],
   "source": [
    "line=[]\n",
    "while True :\n",
    "    l=input()\n",
    "    if l :\n",
    "        line.append(l.upper())\n",
    "    else:\n",
    "        break\n",
    "for l1 in line:\n",
    "    print(l1)\n"
   ]
  },
  {
   "cell_type": "markdown",
   "id": "bd3e2493",
   "metadata": {},
   "source": [
    "#Answer10"
   ]
  },
  {
   "cell_type": "code",
   "execution_count": 17,
   "id": "e7b8d133",
   "metadata": {},
   "outputs": [
    {
     "name": "stdout",
     "output_type": "stream",
     "text": [
      "hello world and practise makes perfect and hello world again\n",
      "again and hello makes perfect practise world "
     ]
    }
   ],
   "source": [
    "str=input().split(' ')\n",
    "l=list(str)\n",
    "s=set(l)\n",
    "l1=list(s)\n",
    "l1.sort()\n",
    "for x in l1:\n",
    "    print(x,end=' ')\n",
    "\n"
   ]
  },
  {
   "cell_type": "code",
   "execution_count": null,
   "id": "58eb157b",
   "metadata": {},
   "outputs": [],
   "source": [
    "#Answer11"
   ]
  },
  {
   "cell_type": "code",
   "execution_count": 24,
   "id": "0d8d2edc",
   "metadata": {},
   "outputs": [
    {
     "name": "stdout",
     "output_type": "stream",
     "text": [
      "0100,0011,1010,1001\n",
      "1010\n"
     ]
    }
   ],
   "source": [
    "num=input().split(',')\n",
    "num=list(num)\n",
    "res=[]\n",
    "for val in num:\n",
    "    d=int(val,2)\n",
    "    if d%5==0 :\n",
    "        res.append(val)\n",
    "        \n",
    "print(','.join(res))\n"
   ]
  },
  {
   "cell_type": "markdown",
   "id": "c31b3460",
   "metadata": {},
   "source": [
    "#Answer12"
   ]
  },
  {
   "cell_type": "code",
   "execution_count": 2,
   "id": "f3c66dff",
   "metadata": {},
   "outputs": [
    {
     "name": "stdout",
     "output_type": "stream",
     "text": [
      "2000,2002,2004,2006,2008,2020,2022,2024,2026,2028,2040,2042,2044,2046,2048,2060,2062,2064,2066,2068,2080,2082,2084,2086,2088,2200,2202,2204,2206,2208,2220,2222,2224,2226,2228,2240,2242,2244,2246,2248,2260,2262,2264,2266,2268,2280,2282,2284,2286,2288,2400,2402,2404,2406,2408,2420,2422,2424,2426,2428,2440,2442,2444,2446,2448,2460,2462,2464,2466,2468,2480,2482,2484,2486,2488,2600,2602,2604,2606,2608,2620,2622,2624,2626,2628,2640,2642,2644,2646,2648,2660,2662,2664,2666,2668,2680,2682,2684,2686,2688,2800,2802,2804,2806,2808,2820,2822,2824,2826,2828,2840,2842,2844,2846,2848,2860,2862,2864,2866,2868,2880,2882,2884,2886,2888\n"
     ]
    }
   ],
   "source": [
    "res=[]\n",
    "for i in range(1000,3001):\n",
    "    s=str(i)\n",
    "    if int(s[0])%2==0 and int(s[1])%2==0 and int(s[2])%2==0 and int(s[3])%2==0:\n",
    "        res.append(s)\n",
    "print(','.join(res))\n"
   ]
  },
  {
   "cell_type": "markdown",
   "id": "f7f2e786",
   "metadata": {},
   "source": [
    "#Answer13"
   ]
  },
  {
   "cell_type": "code",
   "execution_count": 3,
   "id": "069a2866",
   "metadata": {},
   "outputs": [
    {
     "name": "stdout",
     "output_type": "stream",
     "text": [
      "hello world! 123\n",
      "LETTER 10\n",
      "DIGITS 3\n"
     ]
    }
   ],
   "source": [
    "s=input()\n",
    "d=0\n",
    "l=0\n",
    "for i in s:\n",
    "    if i.isdigit():\n",
    "        d+=1\n",
    "    elif i.isalpha():\n",
    "        l+=1\n",
    "print(\"LETTER {}\\nDIGITS {}\".format(l,d))\n"
   ]
  },
  {
   "cell_type": "markdown",
   "id": "bbd55a19",
   "metadata": {},
   "source": [
    "#Answer14"
   ]
  },
  {
   "cell_type": "code",
   "execution_count": 2,
   "id": "9705effe",
   "metadata": {},
   "outputs": [
    {
     "name": "stdout",
     "output_type": "stream",
     "text": [
      "Hello world!\n",
      "UPPER CASE1\n",
      "LOWER CASE 9\n"
     ]
    }
   ],
   "source": [
    "s=input()\n",
    "u=0\n",
    "l=0\n",
    "for i in s:\n",
    "    if i.isupper():\n",
    "        u+=1\n",
    "    elif i.islower():\n",
    "        l+=1\n",
    "print(\"UPPER CASE{}\\nLOWER CASE {}\".format(u,l))\n"
   ]
  },
  {
   "cell_type": "markdown",
   "id": "859364d7",
   "metadata": {},
   "source": [
    "#Answer15"
   ]
  },
  {
   "cell_type": "code",
   "execution_count": 8,
   "id": "c9ba2330",
   "metadata": {},
   "outputs": [
    {
     "name": "stdout",
     "output_type": "stream",
     "text": [
      "9\n",
      "11106\n"
     ]
    }
   ],
   "source": [
    "num=int(input())\n",
    "res=0\n",
    "for i in range(1,5):\n",
    "    res+=int(str(num)*i)\n",
    "print(res)\n"
   ]
  },
  {
   "cell_type": "markdown",
   "id": "00d4ee5c",
   "metadata": {},
   "source": [
    "#Answer16"
   ]
  },
  {
   "cell_type": "code",
   "execution_count": 19,
   "id": "f5ad24b8",
   "metadata": {},
   "outputs": [
    {
     "name": "stdout",
     "output_type": "stream",
     "text": [
      "1,2,3,4,5,6,7,8,9\n",
      "1,9,25,49,81\n"
     ]
    }
   ],
   "source": [
    "ip=input()\n",
    "res=[x for x in ip.split(',') if int(x)%2!=0]\n",
    "for i in range(len(res)):\n",
    "    res[i]=str(int(res[i])*int(res[i]))\n",
    "print(','.join(res))"
   ]
  },
  {
   "cell_type": "markdown",
   "id": "b56fd481",
   "metadata": {},
   "source": [
    "#Answer17"
   ]
  },
  {
   "cell_type": "code",
   "execution_count": 24,
   "id": "b8cbe797",
   "metadata": {},
   "outputs": [
    {
     "name": "stdout",
     "output_type": "stream",
     "text": [
      "D 300\n",
      "D 300\n",
      "W 200\n",
      "D 100\n",
      "\n",
      "500\n"
     ]
    }
   ],
   "source": [
    "net=0\n",
    "while True:\n",
    "    str1=input().split(' ')\n",
    "\n",
    "    if str1[0]=='D':\n",
    "        net+=int(str[1])\n",
    "    elif str1[0]=='W':\n",
    "        net-=int(str1[1])\n",
    "    else:\n",
    "        break\n",
    "\n",
    "print(net)"
   ]
  },
  {
   "cell_type": "markdown",
   "id": "06f79215",
   "metadata": {},
   "source": [
    "#Answer18"
   ]
  },
  {
   "cell_type": "code",
   "execution_count": 35,
   "id": "c2a2bc72",
   "metadata": {},
   "outputs": [
    {
     "name": "stdout",
     "output_type": "stream",
     "text": [
      "ABd1234@1,a F1#,2w3E*,2We3345\n",
      "ABd1234@1\n"
     ]
    }
   ],
   "source": [
    "import re\n",
    "pas=input()\n",
    "pas=pas.split(',')\n",
    "res=[]\n",
    "for i in pas:\n",
    "    if len(i)<6 and len(i)>12:\n",
    "        continue\n",
    "    elif not re.search(\"([a-z]+)\",i):\n",
    "        continue\n",
    "    elif not re.search(\"([A-Z]+)\",i):\n",
    "        continue\n",
    "    elif not re.search(\"([0-9]+)\",i):\n",
    "        continue\n",
    "    elif not re.search(\"([!@$%^&]+)\",i):\n",
    "        continue\n",
    "    else:\n",
    "        res.append(i)\n",
    "        \n",
    "print(','.join(res))"
   ]
  },
  {
   "cell_type": "markdown",
   "id": "95126d1d",
   "metadata": {},
   "source": [
    "#Answer19"
   ]
  },
  {
   "cell_type": "code",
   "execution_count": 37,
   "id": "728e6553",
   "metadata": {},
   "outputs": [
    {
     "name": "stdout",
     "output_type": "stream",
     "text": [
      "Tom,19,80\n",
      "John,20,19\n",
      "Jony,17,91\n",
      "Jony,17,93\n",
      "Json,21,85\n",
      "\n",
      "[('John', '20', '19'), ('Jony', '17', '91'), ('Jony', '17', '93'), ('Json', '21', '85'), ('Tom', '19', '80')]\n"
     ]
    }
   ],
   "source": [
    "lst=[]\n",
    "while True:\n",
    "    x=input()\n",
    "    if x=='':\n",
    "        break\n",
    "    lst.append(tuple(x.split(',')))\n",
    "    \n",
    "print(sorted(lst,key=lambda x: (x[0],x[1],x[2])))\n",
    "    \n",
    "    \n",
    "    \n"
   ]
  },
  {
   "cell_type": "markdown",
   "id": "5bac9588",
   "metadata": {},
   "source": [
    "#Answer20"
   ]
  },
  {
   "cell_type": "code",
   "execution_count": 41,
   "id": "4cbf4af1",
   "metadata": {},
   "outputs": [
    {
     "name": "stdout",
     "output_type": "stream",
     "text": [
      "10\n",
      "0 7 "
     ]
    }
   ],
   "source": [
    "def mygenerator(self):\n",
    "        for i in range(n):\n",
    "            if i%7 == 0:\n",
    "                yield i           \n",
    "n=int(input())\n",
    "\n",
    "for i in mygenerator(n):\n",
    "    print(i,end=' ')\n"
   ]
  },
  {
   "cell_type": "markdown",
   "id": "9834f8ce",
   "metadata": {},
   "source": [
    "#Answer21"
   ]
  },
  {
   "cell_type": "code",
   "execution_count": 4,
   "id": "64900e3c",
   "metadata": {},
   "outputs": [
    {
     "name": "stdout",
     "output_type": "stream",
     "text": [
      "UP 5\n",
      "DOWN 3\n",
      "LEFT 3\n",
      "RIGHT 2\n",
      "\n",
      "2\n"
     ]
    }
   ],
   "source": [
    "import math\n",
    "x,y=0,0\n",
    "while True :\n",
    "    ip=input()\n",
    "    if ip=='':\n",
    "        break\n",
    "    ip=ip.split(' ')\n",
    "    if ip[0]=='UP':\n",
    "        y+=int(ip[1])\n",
    "    elif ip[0]=='DOWN':\n",
    "        y-=int(ip[1])\n",
    "    elif ip[0]=='LEFT':\n",
    "        x-=int(ip[1])\n",
    "    elif ip[0]=='RIGHT':\n",
    "        x+=int(ip[1])\n",
    "        \n",
    "dist=round(math.floor(math.sqrt(x**2+y**2)))\n",
    "print(dist)"
   ]
  },
  {
   "cell_type": "markdown",
   "id": "d4e6890a",
   "metadata": {},
   "source": [
    "#Answer22"
   ]
  },
  {
   "cell_type": "code",
   "execution_count": 13,
   "id": "ccd5886d",
   "metadata": {},
   "outputs": [
    {
     "name": "stdout",
     "output_type": "stream",
     "text": [
      "New to Python or choosing Python 2 and Python 3? Read Python 2 or Python 3.\n",
      "2 : 2\n",
      "3. : 1\n",
      "3? : 1\n",
      "New : 1\n",
      "Python : 5\n",
      "Read : 1\n",
      "and : 1\n",
      "choosing : 1\n",
      "or : 2\n",
      "to : 1\n"
     ]
    }
   ],
   "source": [
    "dict={}\n",
    "str1=input().split(' ')\n",
    "\n",
    "for i in str1:\n",
    "    if i in dict:\n",
    "        dict[i]+=1\n",
    "    else:\n",
    "        dict[i]=1\n",
    "        \n",
    "for i in sorted (dict) :\n",
    "    print (str(i)+' : '+str(dict[i]))\n"
   ]
  },
  {
   "cell_type": "markdown",
   "id": "bd9331a9",
   "metadata": {},
   "source": [
    "#Answer23"
   ]
  },
  {
   "cell_type": "code",
   "execution_count": 14,
   "id": "dfd9852b",
   "metadata": {},
   "outputs": [
    {
     "name": "stdout",
     "output_type": "stream",
     "text": [
      "25\n"
     ]
    }
   ],
   "source": [
    "def square(num):\n",
    "    return num**2\n",
    "print(square(5))"
   ]
  },
  {
   "cell_type": "markdown",
   "id": "f202bd5d",
   "metadata": {},
   "source": [
    "#Answer24"
   ]
  },
  {
   "cell_type": "code",
   "execution_count": 21,
   "id": "b4e2f4d8",
   "metadata": {},
   "outputs": [
    {
     "name": "stdout",
     "output_type": "stream",
     "text": [
      "Return the absolute value of the argument.\n",
      "int([x]) -> integer\n",
      "int(x, base=10) -> integer\n",
      "\n",
      "Convert a number or string to an integer, or return 0 if no arguments\n",
      "are given.  If x is a number, return x.__int__().  For floating point\n",
      "numbers, this truncates towards zero.\n",
      "\n",
      "If x is not a number or if base is given, then x must be a string,\n",
      "bytes, or bytearray instance representing an integer literal in the\n",
      "given base.  The literal can be preceded by '+' or '-' and be surrounded\n",
      "by whitespace.  The base defaults to 10.  Valid bases are 0 and 2-36.\n",
      "Base 0 means to interpret the base from the string as an integer literal.\n",
      ">>> int('0b100', base=0)\n",
      "4\n"
     ]
    }
   ],
   "source": [
    "print(abs.__doc__)\n",
    "print(int.__doc__)"
   ]
  },
  {
   "cell_type": "markdown",
   "id": "804b8252",
   "metadata": {},
   "source": [
    "#Answer25"
   ]
  },
  {
   "cell_type": "code",
   "execution_count": 25,
   "id": "bd4a0678",
   "metadata": {},
   "outputs": [
    {
     "name": "stdout",
     "output_type": "stream",
     "text": [
      "Manish\n",
      "22\n",
      "football\n",
      "HIT\n"
     ]
    }
   ],
   "source": [
    "class myclass():\n",
    "    college=\"HIT\"\n",
    "    def __init__(self,name,age):\n",
    "        self.name=name\n",
    "        self.age=age\n",
    "        self.sport=\"football\"\n",
    "        \n",
    "myobj=myclass(\"Manish\",\"22\")\n",
    "print(myobj.name)\n",
    "print(myobj.age)\n",
    "print(myobj.sport)\n",
    "\n",
    "print(myclass.college)\n"
   ]
  },
  {
   "cell_type": "markdown",
   "id": "cdf69afb",
   "metadata": {},
   "source": [
    "#Answer26"
   ]
  },
  {
   "cell_type": "code",
   "execution_count": 26,
   "id": "5a5bcb30",
   "metadata": {},
   "outputs": [
    {
     "name": "stdout",
     "output_type": "stream",
     "text": [
      "7\n"
     ]
    }
   ],
   "source": [
    "def sumfun(num1,num2):\n",
    "    return num1+num2\n",
    "print(sumfun(3,4))"
   ]
  },
  {
   "cell_type": "markdown",
   "id": "f6ff1e50",
   "metadata": {},
   "source": [
    "#Answer27"
   ]
  },
  {
   "cell_type": "code",
   "execution_count": 27,
   "id": "09c941c8",
   "metadata": {},
   "outputs": [
    {
     "name": "stdout",
     "output_type": "stream",
     "text": [
      "8\n"
     ]
    }
   ],
   "source": [
    "def inttostring(num):\n",
    "    print(str(num))\n",
    "inttostring(8)"
   ]
  },
  {
   "cell_type": "markdown",
   "id": "58bb0798",
   "metadata": {},
   "source": [
    "#Answer28"
   ]
  },
  {
   "cell_type": "code",
   "execution_count": 29,
   "id": "f854388d",
   "metadata": {},
   "outputs": [
    {
     "name": "stdout",
     "output_type": "stream",
     "text": [
      "11\n"
     ]
    }
   ],
   "source": [
    "def concatanation(num1,num2):\n",
    "    s = int(num1)+int(num2)\n",
    "    print(s)\n",
    "concatanation('5','6')"
   ]
  },
  {
   "cell_type": "markdown",
   "id": "aae80d15",
   "metadata": {},
   "source": [
    "#Answer29"
   ]
  },
  {
   "cell_type": "code",
   "execution_count": 30,
   "id": "d14b79f6",
   "metadata": {},
   "outputs": [
    {
     "name": "stdout",
     "output_type": "stream",
     "text": [
      "56\n"
     ]
    }
   ],
   "source": [
    "def concatanation(str1,str2):\n",
    "    s = str1+str2\n",
    "    print(s)\n",
    "concatanation('5','6')"
   ]
  },
  {
   "cell_type": "markdown",
   "id": "f0c2f8cc",
   "metadata": {},
   "source": [
    "#Answer30"
   ]
  },
  {
   "cell_type": "code",
   "execution_count": 33,
   "id": "21247a41",
   "metadata": {},
   "outputs": [
    {
     "name": "stdout",
     "output_type": "stream",
     "text": [
      "World\n",
      "hi\n",
      "by\n"
     ]
    }
   ],
   "source": [
    "def maxlengthstring(str1,str2):\n",
    "    if len(str1)==len(str2):\n",
    "        print(str1)\n",
    "        print(str2)\n",
    "    else:\n",
    "        if len(str1)>len(str2):\n",
    "            print(str1)\n",
    "        else:\n",
    "            print(str2)\n",
    "maxlengthstring(\"Hlw\",\"World\")\n",
    "maxlengthstring(\"hi\",\"by\")"
   ]
  },
  {
   "cell_type": "markdown",
   "id": "e220146c",
   "metadata": {},
   "source": [
    "#Answer31"
   ]
  },
  {
   "cell_type": "code",
   "execution_count": 35,
   "id": "1bb318cf",
   "metadata": {},
   "outputs": [
    {
     "name": "stdout",
     "output_type": "stream",
     "text": [
      "1 : 1\n",
      "2 : 4\n",
      "3 : 9\n",
      "4 : 16\n",
      "5 : 25\n",
      "6 : 36\n",
      "7 : 49\n",
      "8 : 64\n",
      "9 : 81\n",
      "10 : 100\n",
      "11 : 121\n",
      "12 : 144\n",
      "13 : 169\n",
      "14 : 196\n",
      "15 : 225\n",
      "16 : 256\n",
      "17 : 289\n",
      "18 : 324\n",
      "19 : 361\n",
      "20 : 400\n"
     ]
    }
   ],
   "source": [
    "def printdict(dict):\n",
    "    for key,value in dict.items():\n",
    "        print('{} : {}'.format(key,value))\n",
    "\n",
    "dict={}\n",
    "for i in range(1,21):\n",
    "    dict[i]=i**2\n",
    "printdict(dict)"
   ]
  },
  {
   "cell_type": "markdown",
   "id": "b9533bae",
   "metadata": {},
   "source": [
    "#Answer32"
   ]
  },
  {
   "cell_type": "code",
   "execution_count": 36,
   "id": "c0ae1b90",
   "metadata": {},
   "outputs": [
    {
     "name": "stdout",
     "output_type": "stream",
     "text": [
      "1\n",
      "2\n",
      "3\n",
      "4\n",
      "5\n",
      "6\n",
      "7\n",
      "8\n",
      "9\n",
      "10\n",
      "11\n",
      "12\n",
      "13\n",
      "14\n",
      "15\n",
      "16\n",
      "17\n",
      "18\n",
      "19\n",
      "20\n"
     ]
    }
   ],
   "source": [
    "def printdict(dict):\n",
    "    for key in dict.keys():\n",
    "        print('{}'.format(key))\n",
    "\n",
    "dict={}\n",
    "for i in range(1,21):\n",
    "    dict[i]=i**2\n",
    "printdict(dict)"
   ]
  },
  {
   "cell_type": "markdown",
   "id": "9dc81664",
   "metadata": {},
   "source": [
    "#Answer33"
   ]
  },
  {
   "cell_type": "code",
   "execution_count": 38,
   "id": "8cd5eb47",
   "metadata": {},
   "outputs": [
    {
     "name": "stdout",
     "output_type": "stream",
     "text": [
      "[0, 1, 4, 9, 16, 25, 36, 49, 64, 81, 100, 121, 144, 169, 196, 225, 256, 289, 324, 361, 400]\n"
     ]
    }
   ],
   "source": [
    "def squareitem(num):\n",
    "    list1=[]\n",
    "    for item in range(num+1):\n",
    "        list1.append(item**2)\n",
    "    print(list1)\n",
    "    \n",
    "squareitem(20)"
   ]
  },
  {
   "cell_type": "markdown",
   "id": "341af4eb",
   "metadata": {},
   "source": [
    "#Answer34"
   ]
  },
  {
   "cell_type": "code",
   "execution_count": 39,
   "id": "872c5f12",
   "metadata": {},
   "outputs": [
    {
     "name": "stdout",
     "output_type": "stream",
     "text": [
      "[0, 1, 4, 9, 16]\n"
     ]
    }
   ],
   "source": [
    "def squareitem(num):\n",
    "    list1=[]\n",
    "    for item in range(num+1):\n",
    "        list1.append(item**2)\n",
    "    print(list1[:5])\n",
    "    \n",
    "squareitem(20)"
   ]
  },
  {
   "cell_type": "markdown",
   "id": "84b9f6b2",
   "metadata": {},
   "source": [
    "#Answer35"
   ]
  },
  {
   "cell_type": "code",
   "execution_count": 42,
   "id": "bbfa6eb0",
   "metadata": {},
   "outputs": [
    {
     "name": "stdout",
     "output_type": "stream",
     "text": [
      "[256, 289, 324, 361, 400]\n"
     ]
    }
   ],
   "source": [
    "def squareitem(num):\n",
    "    list1=[]\n",
    "    for item in range(num+1):\n",
    "        list1.append(item**2)\n",
    "    print(list1[16:])\n",
    "    \n",
    "squareitem(20)"
   ]
  },
  {
   "cell_type": "markdown",
   "id": "80cf0825",
   "metadata": {},
   "source": [
    "#Answer36"
   ]
  },
  {
   "cell_type": "code",
   "execution_count": 43,
   "id": "8e37a3ac",
   "metadata": {},
   "outputs": [
    {
     "name": "stdout",
     "output_type": "stream",
     "text": [
      "[25, 36, 49, 64, 81, 100, 121, 144, 169, 196, 225, 256, 289, 324, 361, 400]\n"
     ]
    }
   ],
   "source": [
    "def squareitem(num):\n",
    "    list1=[]\n",
    "    for item in range(num+1):\n",
    "        list1.append(item**2)\n",
    "    print(list1[5:])\n",
    "    \n",
    "squareitem(20)"
   ]
  },
  {
   "cell_type": "markdown",
   "id": "7d8ca47e",
   "metadata": {},
   "source": [
    "#Answer37"
   ]
  },
  {
   "cell_type": "code",
   "execution_count": 44,
   "id": "af5560d8",
   "metadata": {},
   "outputs": [
    {
     "name": "stdout",
     "output_type": "stream",
     "text": [
      "(0, 1, 4, 9, 16, 25, 36, 49, 64, 81, 100, 121, 144, 169, 196, 225, 256, 289, 324, 361, 400)\n"
     ]
    }
   ],
   "source": [
    "def squareitem(num):\n",
    "    list1=[]\n",
    "    for item in range(num+1):\n",
    "        list1.append(item**2)\n",
    "    print(tuple(list1))\n",
    "    \n",
    "squareitem(20)"
   ]
  },
  {
   "cell_type": "markdown",
   "id": "8745368f",
   "metadata": {},
   "source": [
    "#Answer38"
   ]
  },
  {
   "cell_type": "code",
   "execution_count": 48,
   "id": "a3a36ee0",
   "metadata": {},
   "outputs": [
    {
     "name": "stdout",
     "output_type": "stream",
     "text": [
      "1 2 3 4 5 \n",
      "6 7 8 9 10 "
     ]
    }
   ],
   "source": [
    "t=(1,2,3,4,5,6,7,8,9,10)\n",
    "l=len(t)\n",
    "for i in range(l):\n",
    "        print(t[i],end=' ')\n",
    "        if i==(l//2-1) :\n",
    "            print()"
   ]
  },
  {
   "cell_type": "markdown",
   "id": "f69b529d",
   "metadata": {},
   "source": [
    "#Answer39"
   ]
  },
  {
   "cell_type": "code",
   "execution_count": 50,
   "id": "5dbdde08",
   "metadata": {},
   "outputs": [
    {
     "name": "stdout",
     "output_type": "stream",
     "text": [
      "(2, 4, 6, 8, 10)\n"
     ]
    }
   ],
   "source": [
    "t=(1,2,3,4,5,6,7,8,9,10)\n",
    "l=len(t)\n",
    "t1=(i for i in t if i%2==0)\n",
    "print(tuple(t1))"
   ]
  },
  {
   "cell_type": "markdown",
   "id": "0fc671dc",
   "metadata": {},
   "source": [
    "#Answer40"
   ]
  },
  {
   "cell_type": "code",
   "execution_count": 51,
   "id": "43c9cd44",
   "metadata": {},
   "outputs": [
    {
     "name": "stdout",
     "output_type": "stream",
     "text": [
      "YES\n",
      "Yes\n"
     ]
    }
   ],
   "source": [
    "str1=input()\n",
    "if str1.lower()=='yes':\n",
    "    print(\"Yes\")\n",
    "else:\n",
    "    print(\"No\")\n",
    "    "
   ]
  },
  {
   "cell_type": "markdown",
   "id": "7e1f03fa",
   "metadata": {},
   "source": [
    "#Answer41"
   ]
  },
  {
   "cell_type": "code",
   "execution_count": 53,
   "id": "d58884e6",
   "metadata": {},
   "outputs": [
    {
     "name": "stdout",
     "output_type": "stream",
     "text": [
      "[1, 4, 9, 16, 25, 36, 49, 64, 81, 100]\n"
     ]
    }
   ],
   "source": [
    "l=[1,2,3,4,5,6,7,8,9,10]\n",
    "l1=map(lambda x:x**2,l)\n",
    "print(list(l1))"
   ]
  },
  {
   "cell_type": "markdown",
   "id": "9c6ce1ec",
   "metadata": {},
   "source": [
    "#Answer42"
   ]
  },
  {
   "cell_type": "code",
   "execution_count": 55,
   "id": "dd836622",
   "metadata": {},
   "outputs": [
    {
     "name": "stdout",
     "output_type": "stream",
     "text": [
      "[4, 16, 36, 64, 100]\n"
     ]
    }
   ],
   "source": [
    "l=[1,2,3,4,5,6,7,8,9,10]\n",
    "l1=[i for i in l if i%2==0]\n",
    "l1=map(lambda x: x**2,l1)\n",
    "print(list(l1))"
   ]
  },
  {
   "cell_type": "markdown",
   "id": "45129411",
   "metadata": {},
   "source": [
    "#Answer43"
   ]
  },
  {
   "cell_type": "code",
   "execution_count": 60,
   "id": "d57a74b4",
   "metadata": {},
   "outputs": [
    {
     "name": "stdout",
     "output_type": "stream",
     "text": [
      "[4, 16, 36, 64, 100, 144, 196, 256, 324, 400]\n"
     ]
    }
   ],
   "source": [
    "l=[]\n",
    "for i in range(1,21):\n",
    "    l.append(i)\n",
    "l1=map(lambda x:x**2, filter(lambda x:x%2==0,l))\n",
    "print(list(l1))\n"
   ]
  },
  {
   "cell_type": "markdown",
   "id": "f208fa51",
   "metadata": {},
   "source": [
    "#Answer44"
   ]
  },
  {
   "cell_type": "code",
   "execution_count": 69,
   "id": "b958d957",
   "metadata": {},
   "outputs": [
    {
     "name": "stdout",
     "output_type": "stream",
     "text": [
      "[1, 4, 9, 16]\n"
     ]
    }
   ],
   "source": [
    "import math\n",
    "l=[]\n",
    "l1=[]\n",
    "for i in range(1,21):\n",
    "    l.append(i)\n",
    "    if math.sqrt(i) in l:\n",
    "        l1.append(i)\n",
    "print(l1)\n"
   ]
  },
  {
   "cell_type": "markdown",
   "id": "101f9454",
   "metadata": {},
   "source": [
    "#Answer45"
   ]
  },
  {
   "cell_type": "code",
   "execution_count": 71,
   "id": "a72a1734",
   "metadata": {},
   "outputs": [
    {
     "name": "stdout",
     "output_type": "stream",
     "text": [
      "America\n"
     ]
    }
   ],
   "source": [
    "class American():\n",
    "    def __init__(self):\n",
    "        self.country=\"America\"\n",
    "    @staticmethod\n",
    "    def printNationality():\n",
    "        print(\"America\")\n",
    "American.printNationality()"
   ]
  },
  {
   "cell_type": "markdown",
   "id": "4195bdbe",
   "metadata": {},
   "source": [
    "#Answer46"
   ]
  },
  {
   "cell_type": "code",
   "execution_count": 74,
   "id": "cc50a32f",
   "metadata": {},
   "outputs": [
    {
     "name": "stdout",
     "output_type": "stream",
     "text": [
      "America\n",
      "New York\n"
     ]
    },
    {
     "data": {
      "text/plain": [
       "<__main__.NewYork at 0x1f51e7c31f0>"
      ]
     },
     "execution_count": 74,
     "metadata": {},
     "output_type": "execute_result"
    }
   ],
   "source": [
    "class America(object):\n",
    "    def __init__(self):\n",
    "        print(\"America\")\n",
    "class NewYork(America):\n",
    "    def __init__(self):\n",
    "        super().__init__()\n",
    "        print(\"New York\")\n",
    "NewYork()"
   ]
  },
  {
   "cell_type": "markdown",
   "id": "c51481a5",
   "metadata": {},
   "source": [
    "#Answer47"
   ]
  },
  {
   "cell_type": "code",
   "execution_count": 80,
   "id": "04fbf70f",
   "metadata": {},
   "outputs": [
    {
     "data": {
      "text/plain": [
       "78.54"
      ]
     },
     "execution_count": 80,
     "metadata": {},
     "output_type": "execute_result"
    }
   ],
   "source": [
    "import math\n",
    "class Circle(object):\n",
    "    def __init__(self,radius):\n",
    "        self.radius=radius\n",
    "    def computearea(self):\n",
    "        return round(math.pi*(self.radius**2),2)\n",
    "c=Circle(5)\n",
    "c.computearea()"
   ]
  },
  {
   "cell_type": "markdown",
   "id": "080db86e",
   "metadata": {},
   "source": [
    "#Answer48"
   ]
  },
  {
   "cell_type": "code",
   "execution_count": 82,
   "id": "f3b342e4",
   "metadata": {},
   "outputs": [
    {
     "data": {
      "text/plain": [
       "20"
      ]
     },
     "execution_count": 82,
     "metadata": {},
     "output_type": "execute_result"
    }
   ],
   "source": [
    "import math\n",
    "class Rectangle(object):\n",
    "    def __init__(self,length,width):\n",
    "        self.length=length\n",
    "        self.width=width\n",
    "    def computearea(self):\n",
    "        return round(self.length*self.width)\n",
    "r=Rectangle(5,4)\n",
    "r.computearea()"
   ]
  },
  {
   "cell_type": "markdown",
   "id": "4de1a2d4",
   "metadata": {},
   "source": [
    "#Answer49"
   ]
  },
  {
   "cell_type": "code",
   "execution_count": 84,
   "id": "b1c4c80a",
   "metadata": {},
   "outputs": [
    {
     "name": "stdout",
     "output_type": "stream",
     "text": [
      "Shape\n",
      "0\n",
      "25\n"
     ]
    }
   ],
   "source": [
    "class Shape:\n",
    "    def __init__(self):\n",
    "        print(\"Shape\")\n",
    "    def area(self):\n",
    "        return 0\n",
    "class Square(Shape):\n",
    "    def __init__(self,length):\n",
    "        self.length=length\n",
    "    def area(self):\n",
    "        return self.length**2\n",
    "sh=Shape()\n",
    "print(sh.area())\n",
    "s=Square(5)\n",
    "print(s.area())"
   ]
  },
  {
   "cell_type": "markdown",
   "id": "7298a331",
   "metadata": {},
   "source": [
    "#Answer50"
   ]
  },
  {
   "cell_type": "code",
   "execution_count": 86,
   "id": "97ae6367",
   "metadata": {},
   "outputs": [
    {
     "ename": "Exception",
     "evalue": "Sorry PLease enter a positive number",
     "output_type": "error",
     "traceback": [
      "\u001b[1;31m---------------------------------------------------------------------------\u001b[0m",
      "\u001b[1;31mException\u001b[0m                                 Traceback (most recent call last)",
      "Input \u001b[1;32mIn [86]\u001b[0m, in \u001b[0;36m<cell line: 2>\u001b[1;34m()\u001b[0m\n\u001b[0;32m      1\u001b[0m x\u001b[38;5;241m=\u001b[39m\u001b[38;5;241m-\u001b[39m\u001b[38;5;241m1\u001b[39m\n\u001b[0;32m      2\u001b[0m \u001b[38;5;28;01mif\u001b[39;00m x\u001b[38;5;241m<\u001b[39m\u001b[38;5;241m0\u001b[39m:\n\u001b[1;32m----> 3\u001b[0m     \u001b[38;5;28;01mraise\u001b[39;00m \u001b[38;5;167;01mException\u001b[39;00m(\u001b[38;5;124m'\u001b[39m\u001b[38;5;124mSorry PLease enter a positive number\u001b[39m\u001b[38;5;124m'\u001b[39m)\n",
      "\u001b[1;31mException\u001b[0m: Sorry PLease enter a positive number"
     ]
    }
   ],
   "source": [
    "x=-1\n",
    "if x<0:\n",
    "    raise Exception('Sorry PLease enter a positive number')"
   ]
  },
  {
   "cell_type": "markdown",
   "id": "bf478672",
   "metadata": {},
   "source": [
    "#Answer51"
   ]
  },
  {
   "cell_type": "code",
   "execution_count": 87,
   "id": "036756fb",
   "metadata": {},
   "outputs": [
    {
     "name": "stdout",
     "output_type": "stream",
     "text": [
      "Cannot divided by zero\n"
     ]
    }
   ],
   "source": [
    "try:\n",
    "    res=5/0\n",
    "except ZeroDivisionError:\n",
    "    print(\"Cannot divided by zero\")\n",
    "\n",
    "    "
   ]
  },
  {
   "cell_type": "markdown",
   "id": "05469a8f",
   "metadata": {},
   "source": [
    "#Answer52"
   ]
  },
  {
   "cell_type": "code",
   "execution_count": 89,
   "id": "08a09d83",
   "metadata": {},
   "outputs": [
    {
     "ename": "MyException",
     "evalue": "Sorry Please enter a positive number",
     "output_type": "error",
     "traceback": [
      "\u001b[1;31m---------------------------------------------------------------------------\u001b[0m",
      "\u001b[1;31mMyException\u001b[0m                               Traceback (most recent call last)",
      "Input \u001b[1;32mIn [89]\u001b[0m, in \u001b[0;36m<cell line: 5>\u001b[1;34m()\u001b[0m\n\u001b[0;32m      4\u001b[0m x\u001b[38;5;241m=\u001b[39m\u001b[38;5;241m-\u001b[39m\u001b[38;5;241m1\u001b[39m\n\u001b[0;32m      5\u001b[0m \u001b[38;5;28;01mif\u001b[39;00m x\u001b[38;5;241m<\u001b[39m\u001b[38;5;241m0\u001b[39m:\n\u001b[1;32m----> 6\u001b[0m     \u001b[38;5;28;01mraise\u001b[39;00m MyException(\u001b[38;5;124m'\u001b[39m\u001b[38;5;124mSorry Please enter a positive number\u001b[39m\u001b[38;5;124m'\u001b[39m)\n",
      "\u001b[1;31mMyException\u001b[0m: Sorry Please enter a positive number"
     ]
    }
   ],
   "source": [
    "class MyException(Exception):\n",
    "    def __init__(self,msg):\n",
    "        self.msg=msg\n",
    "x=-1\n",
    "if x<0:\n",
    "    raise MyException('Sorry Please enter a positive number')"
   ]
  },
  {
   "cell_type": "markdown",
   "id": "247896d0",
   "metadata": {},
   "source": [
    "#Answer53"
   ]
  },
  {
   "cell_type": "code",
   "execution_count": 92,
   "id": "69d8ed68",
   "metadata": {},
   "outputs": [
    {
     "name": "stdout",
     "output_type": "stream",
     "text": [
      "manish@capgemini.com\n",
      "manish\n"
     ]
    }
   ],
   "source": [
    "username=input()\n",
    "username=username.split('@')\n",
    "print(username[0])"
   ]
  },
  {
   "cell_type": "markdown",
   "id": "dcac8cb0",
   "metadata": {},
   "source": [
    "#Answer54"
   ]
  },
  {
   "cell_type": "code",
   "execution_count": 95,
   "id": "4f7ff32e",
   "metadata": {},
   "outputs": [
    {
     "name": "stdout",
     "output_type": "stream",
     "text": [
      "manish@capgemini.com\n",
      "capgemini\n"
     ]
    }
   ],
   "source": [
    "import re\n",
    "username=input()\n",
    "pat=\"(\\w+)@(\\w+)\\.(com)\"\n",
    "res=re.match(pat,username)\n",
    "print(res.group(2))"
   ]
  },
  {
   "cell_type": "markdown",
   "id": "45e0070a",
   "metadata": {},
   "source": [
    "#Answer55"
   ]
  },
  {
   "cell_type": "code",
   "execution_count": 96,
   "id": "9661f2d8",
   "metadata": {},
   "outputs": [
    {
     "name": "stdout",
     "output_type": "stream",
     "text": [
      "2 cats and 3 dogs\n",
      "['2', '3']\n"
     ]
    }
   ],
   "source": [
    "ip=input().split(' ')\n",
    "l1=[]\n",
    "for i in ip:\n",
    "    if i.isdigit():\n",
    "        l1.append(i)\n",
    "print(l1)"
   ]
  },
  {
   "cell_type": "markdown",
   "id": "bac9a1da",
   "metadata": {},
   "source": [
    "#Answer56"
   ]
  },
  {
   "cell_type": "code",
   "execution_count": 97,
   "id": "04788113",
   "metadata": {},
   "outputs": [
    {
     "name": "stdout",
     "output_type": "stream",
     "text": [
      "hello world!\n"
     ]
    }
   ],
   "source": [
    "unicodestring=u'hello world!'\n",
    "print(unicodestring)"
   ]
  },
  {
   "cell_type": "markdown",
   "id": "6dad2394",
   "metadata": {},
   "source": [
    "#Answer57"
   ]
  },
  {
   "cell_type": "code",
   "execution_count": 99,
   "id": "306a544e",
   "metadata": {},
   "outputs": [
    {
     "name": "stdout",
     "output_type": "stream",
     "text": [
      "Hello World!\n",
      "b'Hello World!'\n"
     ]
    }
   ],
   "source": [
    "asc=input()\n",
    "ucd=asc.encode('utf-8')\n",
    "print(ucd)"
   ]
  },
  {
   "cell_type": "markdown",
   "id": "fcd04a29",
   "metadata": {},
   "source": [
    "#Answer58"
   ]
  },
  {
   "cell_type": "code",
   "execution_count": null,
   "id": "990bc578",
   "metadata": {},
   "outputs": [],
   "source": [
    "# -*- coding: utf-8 -*-"
   ]
  },
  {
   "cell_type": "markdown",
   "id": "a7de9136",
   "metadata": {},
   "source": [
    "#Answer59"
   ]
  },
  {
   "cell_type": "code",
   "execution_count": 101,
   "id": "baf4a5ed",
   "metadata": {},
   "outputs": [
    {
     "name": "stdout",
     "output_type": "stream",
     "text": [
      "5\n",
      "3.55\n"
     ]
    }
   ],
   "source": [
    "n=int(input())\n",
    "res=0\n",
    "for i in range(1,n+1):\n",
    "    res+=(i/(i+1))\n",
    "print(round(res,2))\n"
   ]
  },
  {
   "cell_type": "markdown",
   "id": "6ad898ba",
   "metadata": {},
   "source": [
    "#Answer60"
   ]
  },
  {
   "cell_type": "code",
   "execution_count": 2,
   "id": "a7a528ca",
   "metadata": {},
   "outputs": [
    {
     "name": "stdout",
     "output_type": "stream",
     "text": [
      "500\n"
     ]
    }
   ],
   "source": [
    "def fun(n):\n",
    "    if n==0 :\n",
    "        return n\n",
    "    return fun(n-1)+100\n",
    "print(fun(5))\n"
   ]
  },
  {
   "cell_type": "markdown",
   "id": "6e93b62e",
   "metadata": {},
   "source": [
    "#Answer61"
   ]
  },
  {
   "cell_type": "code",
   "execution_count": 3,
   "id": "992b9033",
   "metadata": {},
   "outputs": [
    {
     "name": "stdout",
     "output_type": "stream",
     "text": [
      "13\n"
     ]
    }
   ],
   "source": [
    "def fibo(n):\n",
    "    if n==0 or n==1 :\n",
    "        return n\n",
    "    return fibo(n-1)+fibo(n-2)\n",
    "\n",
    "print(fibo(7))\n"
   ]
  },
  {
   "cell_type": "markdown",
   "id": "c3bdceb1",
   "metadata": {},
   "source": [
    "#Answer62"
   ]
  },
  {
   "cell_type": "code",
   "execution_count": 10,
   "id": "8364aac2",
   "metadata": {},
   "outputs": [
    {
     "name": "stdout",
     "output_type": "stream",
     "text": [
      "0,1,1,2,3,5,8,13\n"
     ]
    }
   ],
   "source": [
    "def fibo(n):\n",
    "    if n==0 or n==1 :\n",
    "        return n\n",
    "    return fibo(n-1)+fibo(n-2)\n",
    "    print(n)\n",
    "l=[]\n",
    "for i in range(8):\n",
    "    l.append(str(fibo(i)))\n",
    "    \n",
    "print(\",\".join(l))"
   ]
  },
  {
   "cell_type": "markdown",
   "id": "b92dd03d",
   "metadata": {},
   "source": [
    "#Answer63"
   ]
  },
  {
   "cell_type": "code",
   "execution_count": 11,
   "id": "b75d0998",
   "metadata": {},
   "outputs": [
    {
     "name": "stdout",
     "output_type": "stream",
     "text": [
      "10\n",
      "0,2,4,6,8,10\n"
     ]
    }
   ],
   "source": [
    "num=int(input())\n",
    "l=[str(x) for x in range(num+1) if x%2==0]\n",
    "print(','.join(l))"
   ]
  },
  {
   "cell_type": "markdown",
   "id": "587c5b3d",
   "metadata": {},
   "source": [
    "#Answer64"
   ]
  },
  {
   "cell_type": "code",
   "execution_count": 13,
   "id": "62625efd",
   "metadata": {},
   "outputs": [
    {
     "name": "stdout",
     "output_type": "stream",
     "text": [
      "100\n",
      "0,35,70\n"
     ]
    }
   ],
   "source": [
    "def mygenerator(num):\n",
    "    for i in range(num+1):\n",
    "        if i%5==0 and i%7==0:\n",
    "            yield i\n",
    "num=int(input())\n",
    "l=[]\n",
    "for i in mygenerator(num):\n",
    "    l.append(str(i))\n",
    "print(','.join(l))\n"
   ]
  },
  {
   "cell_type": "markdown",
   "id": "299f2f1b",
   "metadata": {},
   "source": [
    "#Answer65"
   ]
  },
  {
   "cell_type": "code",
   "execution_count": 18,
   "id": "1ee581a7",
   "metadata": {},
   "outputs": [],
   "source": [
    "l=[2,4,6,8]\n",
    "for x in l:\n",
    "    assert x%2==0,\"Not even number in list\""
   ]
  },
  {
   "cell_type": "markdown",
   "id": "80255194",
   "metadata": {},
   "source": [
    "#Answer66"
   ]
  },
  {
   "cell_type": "code",
   "execution_count": 21,
   "id": "79020ab0",
   "metadata": {},
   "outputs": [
    {
     "name": "stdout",
     "output_type": "stream",
     "text": [
      "35\n",
      "3\n",
      "38\n"
     ]
    }
   ],
   "source": [
    "expr=\"x+y\"\n",
    "x=int(input())\n",
    "y=int(input())\n",
    "res=eval(expr)\n",
    "print(res)"
   ]
  },
  {
   "cell_type": "markdown",
   "id": "edd7d4fc",
   "metadata": {},
   "source": [
    "#Answer67"
   ]
  },
  {
   "cell_type": "code",
   "execution_count": 22,
   "id": "67dfd8b7",
   "metadata": {},
   "outputs": [
    {
     "name": "stdout",
     "output_type": "stream",
     "text": [
      "Element found at index 4\n"
     ]
    }
   ],
   "source": [
    "def bsearch(list1, n):  \n",
    "    low = 0  \n",
    "    high = len(list1) - 1  \n",
    "    mid = 0  \n",
    "  \n",
    "    while low <= high:    \n",
    "        mid = (high + low) // 2    \n",
    "        if list1[mid] < n:  \n",
    "            low = mid + 1    \n",
    "        elif list1[mid] > n:  \n",
    "            high = mid - 1  \n",
    "        else:  \n",
    "            return mid   \n",
    "    return -1   \n",
    "list1 = [12, 24, 32, 39, 45, 50, 54]  \n",
    "n = 45   \n",
    "result = bsearch(list1, n)  \n",
    "  \n",
    "if result != -1:  \n",
    "    print(\"Element found at index\", str(result))  \n",
    "else:  \n",
    "    print(\"Element not found in list1\")  "
   ]
  },
  {
   "cell_type": "markdown",
   "id": "dc37cfcb",
   "metadata": {},
   "source": [
    "#Answer68"
   ]
  },
  {
   "cell_type": "code",
   "execution_count": 25,
   "id": "642989ec",
   "metadata": {},
   "outputs": [
    {
     "name": "stdout",
     "output_type": "stream",
     "text": [
      "83.87675726517676\n"
     ]
    }
   ],
   "source": [
    "import random\n",
    "x=random.uniform(10,100)\n",
    "print(x)"
   ]
  },
  {
   "cell_type": "markdown",
   "id": "24d0a52e",
   "metadata": {},
   "source": [
    "#Answer69"
   ]
  },
  {
   "cell_type": "code",
   "execution_count": 26,
   "id": "068a6302",
   "metadata": {},
   "outputs": [
    {
     "name": "stdout",
     "output_type": "stream",
     "text": [
      "26.076681550930058\n"
     ]
    }
   ],
   "source": [
    "import random\n",
    "x=random.uniform(5,95)\n",
    "print(x)"
   ]
  },
  {
   "cell_type": "markdown",
   "id": "9dbaec0a",
   "metadata": {},
   "source": [
    "#Answer70"
   ]
  },
  {
   "cell_type": "code",
   "execution_count": 30,
   "id": "b82d632f",
   "metadata": {},
   "outputs": [
    {
     "name": "stdout",
     "output_type": "stream",
     "text": [
      "2\n"
     ]
    }
   ],
   "source": [
    "import random\n",
    "res=[i for i in range(0,11,2)]\n",
    "print(random.choice(res))"
   ]
  },
  {
   "cell_type": "markdown",
   "id": "2cb889f6",
   "metadata": {},
   "source": [
    "#Answer71"
   ]
  },
  {
   "cell_type": "code",
   "execution_count": 31,
   "id": "73471f74",
   "metadata": {},
   "outputs": [
    {
     "name": "stdout",
     "output_type": "stream",
     "text": [
      "35\n"
     ]
    }
   ],
   "source": [
    "import random\n",
    "res=[x for x in range(10,150) if x%5==0 and x%7==0]\n",
    "print(random.choice(res))"
   ]
  },
  {
   "cell_type": "markdown",
   "id": "4926ed74",
   "metadata": {},
   "source": [
    "#Answer72"
   ]
  },
  {
   "cell_type": "code",
   "execution_count": 32,
   "id": "9d5e6641",
   "metadata": {},
   "outputs": [
    {
     "name": "stdout",
     "output_type": "stream",
     "text": [
      "[153, 159, 132, 150, 179]\n"
     ]
    }
   ],
   "source": [
    "res=random.sample(range(100,201),5)\n",
    "print(res)   \n",
    "    "
   ]
  },
  {
   "cell_type": "markdown",
   "id": "10b3a0ff",
   "metadata": {},
   "source": [
    "#Answer73"
   ]
  },
  {
   "cell_type": "code",
   "execution_count": 35,
   "id": "6e49bfd5",
   "metadata": {},
   "outputs": [
    {
     "name": "stdout",
     "output_type": "stream",
     "text": [
      "[102, 110, 174, 126, 108]\n"
     ]
    }
   ],
   "source": [
    "res=random.sample([i for i in range(100,201) if i%2==0],5)\n",
    "print(res) "
   ]
  },
  {
   "cell_type": "markdown",
   "id": "385279a2",
   "metadata": {},
   "source": [
    "#Answer74"
   ]
  },
  {
   "cell_type": "code",
   "execution_count": 36,
   "id": "13d9f6c7",
   "metadata": {},
   "outputs": [
    {
     "name": "stdout",
     "output_type": "stream",
     "text": [
      "[945, 350, 910, 630, 770]\n"
     ]
    }
   ],
   "source": [
    "res=random.sample([i for i in range(1,1001) if i%5==0 and i%7==0],5)\n",
    "print(res)"
   ]
  },
  {
   "cell_type": "markdown",
   "id": "7c9ce4d7",
   "metadata": {},
   "source": [
    "#Answer75"
   ]
  },
  {
   "cell_type": "code",
   "execution_count": 39,
   "id": "bacca481",
   "metadata": {},
   "outputs": [
    {
     "name": "stdout",
     "output_type": "stream",
     "text": [
      "9\n"
     ]
    }
   ],
   "source": [
    "res=random.randrange(7,15)\n",
    "print(res)"
   ]
  },
  {
   "cell_type": "markdown",
   "id": "2afd8a16",
   "metadata": {},
   "source": [
    "#Answer76"
   ]
  },
  {
   "cell_type": "code",
   "execution_count": 44,
   "id": "1d3c2974",
   "metadata": {},
   "outputs": [
    {
     "name": "stdout",
     "output_type": "stream",
     "text": [
      "b'x\\x9c\\xcbH\\xcd\\xc9\\xc9W(\\xcf/\\xcaIQ\\xcc \\x82\\r\\x00\\xbd[\\x11\\xf5'\n",
      "hello world!hello world!hello world!hello world!\n"
     ]
    }
   ],
   "source": [
    "import zlib\n",
    "str=\"hello world!hello world!hello world!hello world!\"\n",
    "str=zlib.compress(str.encode())\n",
    "print(str)\n",
    "print(zlib.decompress(str).decode())"
   ]
  },
  {
   "cell_type": "markdown",
   "id": "3fa87442",
   "metadata": {},
   "source": [
    "#Answer77"
   ]
  },
  {
   "cell_type": "code",
   "execution_count": 47,
   "id": "aeae8137",
   "metadata": {},
   "outputs": [
    {
     "name": "stdout",
     "output_type": "stream",
     "text": [
      "0:00:00\n"
     ]
    }
   ],
   "source": [
    "import time\n",
    "start=time.time()\n",
    "for i in range(101):\n",
    "    sum=1+1\n",
    "end=time.time()\n",
    "print(end-start)\n"
   ]
  },
  {
   "cell_type": "markdown",
   "id": "8a60db16",
   "metadata": {},
   "source": [
    "#Answer78"
   ]
  },
  {
   "cell_type": "code",
   "execution_count": 51,
   "id": "bd711086",
   "metadata": {},
   "outputs": [
    {
     "name": "stdout",
     "output_type": "stream",
     "text": [
      "[3, 8, 6, 7]\n"
     ]
    }
   ],
   "source": [
    "import random\n",
    "lst=[3,6,7,8]\n",
    "random.shuffle(lst)\n",
    "print(lst)"
   ]
  },
  {
   "cell_type": "markdown",
   "id": "72a1511e",
   "metadata": {},
   "source": [
    "#Answer79"
   ]
  },
  {
   "cell_type": "code",
   "execution_count": 53,
   "id": "9f52fff0",
   "metadata": {},
   "outputs": [
    {
     "name": "stdout",
     "output_type": "stream",
     "text": [
      "I Play Hockey\n",
      "I Play Football\n",
      "I Love Hockey\n",
      "I Love Football\n",
      "You Play Hockey\n",
      "You Play Football\n",
      "You Love Hockey\n",
      "You Love Football\n"
     ]
    }
   ],
   "source": [
    "s=[\"I\",\"You\"]\n",
    "v=[\"Play\",\"Love\"]\n",
    "o=[\"Hockey\",\"Football\"]\n",
    "\n",
    "for i in s:\n",
    "    for j in v:\n",
    "        for k in o:\n",
    "            print(\"{} {} {}\".format(i,j,k))\n"
   ]
  },
  {
   "cell_type": "markdown",
   "id": "f78e77d9",
   "metadata": {},
   "source": [
    "#Answer80"
   ]
  },
  {
   "cell_type": "code",
   "execution_count": 55,
   "id": "84d86d0b",
   "metadata": {},
   "outputs": [
    {
     "name": "stdout",
     "output_type": "stream",
     "text": [
      "[5, 6, 77, 45, 22, 12, 24]\n"
     ]
    }
   ],
   "source": [
    "lst=[5,6,77,45,22,12,24]\n",
    "for x in lst:\n",
    "    if x%2==0:\n",
    "        del x\n",
    "print(lst)"
   ]
  },
  {
   "cell_type": "markdown",
   "id": "a5526889",
   "metadata": {},
   "source": [
    "#Answer81"
   ]
  },
  {
   "cell_type": "code",
   "execution_count": 56,
   "id": "5f5fde66",
   "metadata": {},
   "outputs": [
    {
     "name": "stdout",
     "output_type": "stream",
     "text": [
      "[12, 24, 88]\n"
     ]
    }
   ],
   "source": [
    "lst=[12,24,35,70,88,120,155]\n",
    "lst=[i for i in lst if i%5!=0 and i%7!=0]\n",
    "print(lst)"
   ]
  },
  {
   "cell_type": "markdown",
   "id": "3c0ae65a",
   "metadata": {},
   "source": [
    "#Answer82"
   ]
  },
  {
   "cell_type": "code",
   "execution_count": 57,
   "id": "8ea3a0b1",
   "metadata": {},
   "outputs": [
    {
     "name": "stdout",
     "output_type": "stream",
     "text": [
      "[24, 70, 120]\n"
     ]
    }
   ],
   "source": [
    "lst=[12,24,35,70,88,120,155]\n",
    "lst=[x for (i,x) in enumerate(lst) if i%2!=0]\n",
    "print(lst)"
   ]
  },
  {
   "cell_type": "markdown",
   "id": "9c556aa3",
   "metadata": {},
   "source": [
    "#Answer83"
   ]
  },
  {
   "cell_type": "code",
   "execution_count": 58,
   "id": "efbd78a5",
   "metadata": {},
   "outputs": [
    {
     "name": "stdout",
     "output_type": "stream",
     "text": [
      "[12, 24, 88, 120, 155]\n"
     ]
    }
   ],
   "source": [
    "lst=[12,24,35,70,88,120,155]\n",
    "lst=[x for (i,x) in enumerate(lst) if i not in range(2,4)]\n",
    "print(lst)"
   ]
  },
  {
   "cell_type": "markdown",
   "id": "42d4af1f",
   "metadata": {},
   "source": [
    "#Answer84"
   ]
  },
  {
   "cell_type": "code",
   "execution_count": 61,
   "id": "34643952",
   "metadata": {},
   "outputs": [
    {
     "name": "stdout",
     "output_type": "stream",
     "text": [
      "[[[0, 0, 0, 0, 0, 0, 0, 0], [0, 0, 0, 0, 0, 0, 0, 0], [0, 0, 0, 0, 0, 0, 0, 0], [0, 0, 0, 0, 0, 0, 0, 0], [0, 0, 0, 0, 0, 0, 0, 0]], [[0, 0, 0, 0, 0, 0, 0, 0], [0, 0, 0, 0, 0, 0, 0, 0], [0, 0, 0, 0, 0, 0, 0, 0], [0, 0, 0, 0, 0, 0, 0, 0], [0, 0, 0, 0, 0, 0, 0, 0]], [[0, 0, 0, 0, 0, 0, 0, 0], [0, 0, 0, 0, 0, 0, 0, 0], [0, 0, 0, 0, 0, 0, 0, 0], [0, 0, 0, 0, 0, 0, 0, 0], [0, 0, 0, 0, 0, 0, 0, 0]]]\n"
     ]
    }
   ],
   "source": [
    "arr=[[[0 for col in range(8)]for col in range(5)]for col in range(3)]\n",
    "print(arr)"
   ]
  },
  {
   "cell_type": "markdown",
   "id": "ce7c1d0e",
   "metadata": {},
   "source": [
    "#Answer85"
   ]
  },
  {
   "cell_type": "code",
   "execution_count": 60,
   "id": "39fbfe2c",
   "metadata": {},
   "outputs": [
    {
     "name": "stdout",
     "output_type": "stream",
     "text": [
      "[24, 35, 70, 155]\n"
     ]
    }
   ],
   "source": [
    "lst=[12,24,35,70,88,120,155]\n",
    "lst=[x for (i,x) in enumerate(lst) if i not in (0,4,5)]\n",
    "print(lst)"
   ]
  },
  {
   "cell_type": "markdown",
   "id": "91e86eb2",
   "metadata": {},
   "source": [
    "#ANswer86"
   ]
  },
  {
   "cell_type": "code",
   "execution_count": 62,
   "id": "5716d66b",
   "metadata": {},
   "outputs": [
    {
     "name": "stdout",
     "output_type": "stream",
     "text": [
      "[12, 35, 70, 88, 120, 155]\n"
     ]
    }
   ],
   "source": [
    "lst=[12,24,35,70,88,120,155]\n",
    "lst=[x for x in lst if x!=24]\n",
    "print(lst)"
   ]
  },
  {
   "cell_type": "markdown",
   "id": "1c4e402d",
   "metadata": {},
   "source": [
    "#Answer87"
   ]
  },
  {
   "cell_type": "code",
   "execution_count": 64,
   "id": "acfa70c8",
   "metadata": {},
   "outputs": [
    {
     "name": "stdout",
     "output_type": "stream",
     "text": [
      "{35}\n"
     ]
    }
   ],
   "source": [
    "l1=[1,3,6,78,35,55]\n",
    "l2=[12,24,35,24,88,120,155]\n",
    "l3=set(l1).intersection(l2)\n",
    "print(l3)"
   ]
  },
  {
   "cell_type": "markdown",
   "id": "303a9a64",
   "metadata": {},
   "source": [
    "#Answer88"
   ]
  },
  {
   "cell_type": "code",
   "execution_count": 66,
   "id": "2ea37c09",
   "metadata": {},
   "outputs": [
    {
     "name": "stdout",
     "output_type": "stream",
     "text": [
      "[120, 88, 24, 155, 12, 35]\n"
     ]
    }
   ],
   "source": [
    "l1=[12,24,35,24,88,120,155,88,120,155]\n",
    "l1=list(set(l1))\n",
    "l1.reverse()\n",
    "print(l1)"
   ]
  },
  {
   "cell_type": "code",
   "execution_count": null,
   "id": "f35a8a3a",
   "metadata": {},
   "outputs": [],
   "source": [
    "#Answer89"
   ]
  },
  {
   "cell_type": "code",
   "execution_count": 67,
   "id": "c841527e",
   "metadata": {},
   "outputs": [
    {
     "name": "stdout",
     "output_type": "stream",
     "text": [
      "Male person\n",
      "Male\n",
      "Female person\n",
      "Female\n"
     ]
    }
   ],
   "source": [
    "class Person():\n",
    "    def __init__(self):\n",
    "        print(\"person\")\n",
    "class Male(Person):\n",
    "    def __init__(self):\n",
    "        print(\"Male person\")\n",
    "    def getGender(self):\n",
    "        print(\"Male\")\n",
    "class Female(Person):\n",
    "    def __init__(self):\n",
    "        print(\"Female person\")\n",
    "    def getGender(self):\n",
    "        print(\"Female\")\n",
    "m=Male()\n",
    "m.getGender()\n",
    "f=Female()\n",
    "f.getGender()"
   ]
  },
  {
   "cell_type": "markdown",
   "id": "be2c929f",
   "metadata": {},
   "source": [
    "#Answer90"
   ]
  },
  {
   "cell_type": "code",
   "execution_count": 71,
   "id": "2e63e436",
   "metadata": {},
   "outputs": [
    {
     "name": "stdout",
     "output_type": "stream",
     "text": [
      "abcdefgabc\n",
      "a, 2\n",
      "b, 2\n",
      "c, 2\n",
      "d, 1\n",
      "e, 1\n",
      "f, 1\n",
      "g, 1\n"
     ]
    }
   ],
   "source": [
    "dict={}\n",
    "str1=input()\n",
    "for x in str1:\n",
    "    if x in dict:\n",
    "        dict[x]+=1\n",
    "    else:\n",
    "        dict[x]=1\n",
    "\n",
    "for key,value in dict.items():\n",
    "    print(\"{}, {}\".format(key,value))\n",
    "    \n",
    "    "
   ]
  },
  {
   "cell_type": "markdown",
   "id": "e48efbe6",
   "metadata": {},
   "source": [
    "#Answer91"
   ]
  },
  {
   "cell_type": "code",
   "execution_count": 74,
   "id": "35c2bca4",
   "metadata": {},
   "outputs": [
    {
     "name": "stdout",
     "output_type": "stream",
     "text": [
      "rise to vote sir\n",
      "ris etov ot esir\n"
     ]
    }
   ],
   "source": [
    "str1=input()\n",
    "print(str1[::-1])"
   ]
  },
  {
   "cell_type": "markdown",
   "id": "51950a74",
   "metadata": {},
   "source": [
    "#Answer92"
   ]
  },
  {
   "cell_type": "code",
   "execution_count": 1,
   "id": "2a5d1d46",
   "metadata": {},
   "outputs": [
    {
     "name": "stdout",
     "output_type": "stream",
     "text": [
      "H1e2l3l405w6o7r8l9d\n",
      "Hell0world\n"
     ]
    }
   ],
   "source": [
    "str1=input()\n",
    "print(str1[::2])\n"
   ]
  },
  {
   "cell_type": "markdown",
   "id": "ac66cb5e",
   "metadata": {},
   "source": [
    "#Answer93"
   ]
  },
  {
   "cell_type": "code",
   "execution_count": 5,
   "id": "776b13b9",
   "metadata": {},
   "outputs": [
    {
     "name": "stdout",
     "output_type": "stream",
     "text": [
      "[(1, 2, 3), (1, 3, 2), (2, 1, 3), (2, 3, 1), (3, 1, 2), (3, 2, 1)]\n"
     ]
    }
   ],
   "source": [
    "import itertools\n",
    "l=[1,2,3]\n",
    "l1=list(itertools.permutations(l))\n",
    "print(l1)"
   ]
  },
  {
   "cell_type": "markdown",
   "id": "2149e027",
   "metadata": {},
   "source": [
    "#Answer94"
   ]
  },
  {
   "cell_type": "code",
   "execution_count": 6,
   "id": "36b60855",
   "metadata": {},
   "outputs": [
    {
     "name": "stdout",
     "output_type": "stream",
     "text": [
      "No Soluton\n"
     ]
    }
   ],
   "source": [
    "h=35\n",
    "l=94\n",
    "flag=False\n",
    "for i in range(h+1):\n",
    "    j=h-1\n",
    "    if 2*i+4*j==l:\n",
    "        print(\"{},{}\".format(i,j))\n",
    "        flag=True\n",
    "        break\n",
    "        \n",
    "if flag==False:\n",
    "    print(\"No Soluton\")\n"
   ]
  },
  {
   "cell_type": "markdown",
   "id": "cdca2e1e",
   "metadata": {},
   "source": [
    "#Answer95"
   ]
  },
  {
   "cell_type": "code",
   "execution_count": 12,
   "id": "519fd180",
   "metadata": {},
   "outputs": [
    {
     "name": "stdout",
     "output_type": "stream",
     "text": [
      "5\n"
     ]
    }
   ],
   "source": [
    "lst=[5,2,3,6,6,5]\n",
    "x=max(lst)\n",
    "mx2=0\n",
    "for i in lst:\n",
    "    if i > mx2 and i!=x:\n",
    "        mx2=i\n",
    "print(mx2)\n"
   ]
  },
  {
   "cell_type": "markdown",
   "id": "a14b81ee",
   "metadata": {},
   "source": [
    "#Answer96"
   ]
  },
  {
   "cell_type": "code",
   "execution_count": 15,
   "id": "6c19dba4",
   "metadata": {},
   "outputs": [
    {
     "name": "stdout",
     "output_type": "stream",
     "text": [
      "ABCDEFGHIJKLIMNOPQRSTUVWXYZ\n",
      "4\n",
      "ABCD EFGH IJKL IMNO PQRS TUVW XYZ "
     ]
    }
   ],
   "source": [
    "from textwrap import wrap\n",
    "str1=input()\n",
    "width=int(input())\n",
    "res=list(wrap(str1,width))\n",
    "for i in res:\n",
    "    print(i,end=\" \")\n",
    "    "
   ]
  },
  {
   "cell_type": "markdown",
   "id": "7b926d86",
   "metadata": {},
   "source": [
    "#Answer97"
   ]
  },
  {
   "cell_type": "code",
   "execution_count": 16,
   "id": "284352d9",
   "metadata": {},
   "outputs": [
    {
     "name": "stdout",
     "output_type": "stream",
     "text": [
      "--------e--------\n",
      "------e-d-e------\n",
      "----e-d-c-d-e----\n",
      "--e-d-c-b-c-d-e--\n",
      "e-d-c-b-a-b-c-d-e\n",
      "--e-d-c-b-c-d-e--\n",
      "----e-d-c-d-e----\n",
      "------e-d-e------\n",
      "--------e--------\n"
     ]
    }
   ],
   "source": [
    "def rangoli(n):\n",
    "    # your code goes here\n",
    "    l1=list(map(chr,range(97,123)))\n",
    "    x=l1[n-1::-1]+l1[1:n]\n",
    "    mid=len('-'.join(x))\n",
    "    for i in range(1,n):\n",
    "        print('-'.join(l1[n-1:n-i:-1]+l1[n-i:n]).center(mid,'-'))\n",
    "    for i in range(n,0,-1):\n",
    "        print('-'.join(l1[n-1:n-i:-1]+l1[n-i:n]).center(mid,'-')) \n",
    "rangoli(5)"
   ]
  },
  {
   "cell_type": "markdown",
   "id": "60279b4d",
   "metadata": {},
   "source": [
    "#Answer98"
   ]
  },
  {
   "cell_type": "code",
   "execution_count": 20,
   "id": "197e1c0f",
   "metadata": {},
   "outputs": [
    {
     "name": "stdout",
     "output_type": "stream",
     "text": [
      "Friday\n"
     ]
    }
   ],
   "source": [
    "import calendar\n",
    "import datetime\n",
    "date='08 05 2015'\n",
    "day=datetime.datetime.strptime(date,'%d %m %Y').weekday()\n",
    "print(calendar.day_name[day])\n"
   ]
  },
  {
   "cell_type": "markdown",
   "id": "fdb96aab",
   "metadata": {},
   "source": [
    "#Answer99"
   ]
  },
  {
   "cell_type": "code",
   "execution_count": 24,
   "id": "b03eb631",
   "metadata": {},
   "outputs": [
    {
     "name": "stdout",
     "output_type": "stream",
     "text": [
      "4\n",
      "2 4 5 9\n",
      "4\n",
      "2 4 11 12\n",
      "5\n",
      "9\n",
      "11\n",
      "12\n"
     ]
    }
   ],
   "source": [
    "\n",
    "n = int(input())\n",
    "set1 = set(map(int,input().split()))\n",
    "\n",
    "m = int(input())\n",
    "set2 = set(map(int, input().split()))\n",
    "\n",
    "ans = list(set1 ^ set2)\n",
    "ans.sort()\n",
    "for i in ans:\n",
    "    print(i)"
   ]
  },
  {
   "cell_type": "markdown",
   "id": "9e5b9656",
   "metadata": {},
   "source": [
    "#Answer100"
   ]
  },
  {
   "cell_type": "code",
   "execution_count": 2,
   "id": "302afe8a",
   "metadata": {},
   "outputs": [
    {
     "name": "stdout",
     "output_type": "stream",
     "text": [
      "4\n",
      "bcdef\n",
      "abcdefg\n",
      "bcde\n",
      "bcdef\n",
      "3\n",
      "2 1 1 "
     ]
    }
   ],
   "source": [
    "n = int(input())\n",
    "\n",
    "word_list = []\n",
    "word_dict = {}\n",
    "\n",
    "for i in range(n):\n",
    "    word = input()\n",
    "    if word not in word_dict:\n",
    "        word_list.append(word)\n",
    "    word_dict[word] = word_dict.get(word, 0) + 1\n",
    "\n",
    "print(len(word_list))\n",
    "for word in word_list:\n",
    "    print(word_dict[word], end=' ')"
   ]
  },
  {
   "cell_type": "code",
   "execution_count": null,
   "id": "1aaad763",
   "metadata": {},
   "outputs": [],
   "source": []
  }
 ],
 "metadata": {
  "kernelspec": {
   "display_name": "Python 3 (ipykernel)",
   "language": "python",
   "name": "python3"
  },
  "language_info": {
   "codemirror_mode": {
    "name": "ipython",
    "version": 3
   },
   "file_extension": ".py",
   "mimetype": "text/x-python",
   "name": "python",
   "nbconvert_exporter": "python",
   "pygments_lexer": "ipython3",
   "version": "3.8.9"
  }
 },
 "nbformat": 4,
 "nbformat_minor": 5
}
